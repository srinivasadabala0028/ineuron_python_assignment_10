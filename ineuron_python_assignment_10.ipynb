{
 "cells": [
  {
   "cell_type": "code",
   "execution_count": 1,
   "id": "0f19ef10",
   "metadata": {},
   "outputs": [
    {
     "data": {
      "text/plain": [
       "4035"
      ]
     },
     "execution_count": 1,
     "metadata": {},
     "output_type": "execute_result"
    }
   ],
   "source": [
    "# Q1 Write a Python program to find sum of elements in list?\n",
    "a = [12,3345,678]\n",
    "sum(a) \n"
   ]
  },
  {
   "cell_type": "code",
   "execution_count": 2,
   "id": "2843175c",
   "metadata": {},
   "outputs": [
    {
     "name": "stdout",
     "output_type": "stream",
     "text": [
      "148512\n"
     ]
    }
   ],
   "source": [
    "# Q2 Write a Python program to  Multiply all numbers in the list?\n",
    "b = [34,56,78]\n",
    "prod= 1 \n",
    "for i in b : \n",
    "    prod = prod * i \n",
    "print(prod)"
   ]
  },
  {
   "cell_type": "code",
   "execution_count": 4,
   "id": "ddcaabbc",
   "metadata": {},
   "outputs": [
    {
     "data": {
      "text/plain": [
       "56"
      ]
     },
     "execution_count": 4,
     "metadata": {},
     "output_type": "execute_result"
    }
   ],
   "source": [
    "# Q3  Write a Python program to find smallest number in a list? \n",
    "c=[56,567,67]\n",
    "min(c)\n"
   ]
  },
  {
   "cell_type": "code",
   "execution_count": 5,
   "id": "27009e14",
   "metadata": {},
   "outputs": [
    {
     "data": {
      "text/plain": [
       "67889"
      ]
     },
     "execution_count": 5,
     "metadata": {},
     "output_type": "execute_result"
    }
   ],
   "source": [
    " # Q4 Write a Python program to find largest number in a list?\n",
    "d=[883,344,67889]\n",
    "max(d)"
   ]
  },
  {
   "cell_type": "code",
   "execution_count": 6,
   "id": "d91f9ea0",
   "metadata": {},
   "outputs": [
    {
     "name": "stdout",
     "output_type": "stream",
     "text": [
      "2\n",
      "4\n",
      "6\n",
      "8\n"
     ]
    }
   ],
   "source": [
    "# Q7 Write a Python program to print even numbers in a list?\n",
    "r=[2,3,4,5,6,7,8,9]\n",
    "for i in r : \n",
    "    if(i%2==0): \n",
    "        print(i)"
   ]
  },
  {
   "cell_type": "code",
   "execution_count": 9,
   "id": "d8ec1d27",
   "metadata": {},
   "outputs": [
    {
     "name": "stdout",
     "output_type": "stream",
     "text": [
      "3\n",
      "5\n",
      "789\n",
      "99\n",
      "9999\n"
     ]
    }
   ],
   "source": [
    " # Q8 Write a Python program to print odd numbers in a List?\n",
    "u=[3,4,5,6,789,99,9999]\n",
    "for y in u : \n",
    "    if(y%2!=0): \n",
    "        print(y)"
   ]
  },
  {
   "cell_type": "code",
   "execution_count": 11,
   "id": "2b30306b",
   "metadata": {},
   "outputs": [
    {
     "data": {
      "text/plain": [
       "2"
      ]
     },
     "execution_count": 11,
     "metadata": {},
     "output_type": "execute_result"
    }
   ],
   "source": [
    "# Q11 Write a Python program to Count occurrences of an element in a list?\n",
    "t=[5556,66,7888,3,3,444]\n",
    "t.count(3)"
   ]
  },
  {
   "cell_type": "code",
   "execution_count": 1,
   "id": "03444c81",
   "metadata": {},
   "outputs": [
    {
     "name": "stdout",
     "output_type": "stream",
     "text": [
      "888990\n"
     ]
    }
   ],
   "source": [
    "# Q5  Write a Python program to find second largest number in a list? \n",
    "l = [455,6778,888990,234456,56767778889]\n",
    "l.sort()\n",
    "print(l[-2])"
   ]
  },
  {
   "cell_type": "code",
   "execution_count": 11,
   "id": "ce557416",
   "metadata": {},
   "outputs": [
    {
     "name": "stdout",
     "output_type": "stream",
     "text": [
      "89\n"
     ]
    }
   ],
   "source": [
    "# Q6 Write a Python program to find N largest elements from a list?\n",
    "t=[12,34,56,78,89,9090,55566666]\n",
    "n = 3\n",
    "t.sort()\n",
    "print(t[-n])\n"
   ]
  },
  {
   "cell_type": "code",
   "execution_count": 15,
   "id": "e07d2833",
   "metadata": {},
   "outputs": [
    {
     "name": "stdout",
     "output_type": "stream",
     "text": [
      "the original list is [123, 456, [], 56, []]\n",
      " the list after removal is [123, 456, 56]\n"
     ]
    }
   ],
   "source": [
    "# Q9 Write a Python program to Remove empty List from List?\n",
    "y=[123,456,[],56,[]]\n",
    "print(\"the original list is \"+ str(y))\n",
    "e=[r for r in y if r != []]\n",
    "print(\" the list after removal is \"+ str(e))"
   ]
  },
  {
   "cell_type": "code",
   "execution_count": null,
   "id": "08c5ed62",
   "metadata": {},
   "outputs": [],
   "source": [
    "# Q10 Write a Python program to Cloning or Copying a list?\n",
    "p=[12,34,56,78,99,8876778]\n",
    "q=copy(p)\n",
    "print\n",
    "def copy(p):\n",
    "    co=[u for u in p ]\n",
    "    return co "
   ]
  }
 ],
 "metadata": {
  "kernelspec": {
   "display_name": "Python 3 (ipykernel)",
   "language": "python",
   "name": "python3"
  },
  "language_info": {
   "codemirror_mode": {
    "name": "ipython",
    "version": 3
   },
   "file_extension": ".py",
   "mimetype": "text/x-python",
   "name": "python",
   "nbconvert_exporter": "python",
   "pygments_lexer": "ipython3",
   "version": "3.9.13"
  }
 },
 "nbformat": 4,
 "nbformat_minor": 5
}
